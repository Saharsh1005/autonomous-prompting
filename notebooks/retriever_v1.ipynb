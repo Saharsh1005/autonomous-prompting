{
  "nbformat": 4,
  "nbformat_minor": 0,
  "metadata": {
    "colab": {
      "provenance": []
    },
    "kernelspec": {
      "name": "python3",
      "display_name": "Python 3"
    },
    "language_info": {
      "name": "python"
    }
  },
  "cells": [
    {
      "cell_type": "code",
      "source": [
        "pip install pinecone cohere"
      ],
      "metadata": {
        "colab": {
          "base_uri": "https://localhost:8080/"
        },
        "id": "k6bFG6DyBrBm",
        "outputId": "01eb0be4-eb48-453a-e2af-bb4366bfc60c"
      },
      "execution_count": 10,
      "outputs": [
        {
          "output_type": "stream",
          "name": "stdout",
          "text": [
            "Requirement already satisfied: pinecone in /usr/local/lib/python3.10/dist-packages (5.4.1)\n",
            "Requirement already satisfied: cohere in /usr/local/lib/python3.10/dist-packages (5.13.0)\n",
            "Requirement already satisfied: certifi>=2019.11.17 in /usr/local/lib/python3.10/dist-packages (from pinecone) (2024.8.30)\n",
            "Requirement already satisfied: pinecone-plugin-inference<4.0.0,>=2.0.0 in /usr/local/lib/python3.10/dist-packages (from pinecone) (3.0.0)\n",
            "Requirement already satisfied: pinecone-plugin-interface<0.0.8,>=0.0.7 in /usr/local/lib/python3.10/dist-packages (from pinecone) (0.0.7)\n",
            "Requirement already satisfied: python-dateutil>=2.5.3 in /usr/local/lib/python3.10/dist-packages (from pinecone) (2.8.2)\n",
            "Requirement already satisfied: tqdm>=4.64.1 in /usr/local/lib/python3.10/dist-packages (from pinecone) (4.66.6)\n",
            "Requirement already satisfied: typing-extensions>=3.7.4 in /usr/local/lib/python3.10/dist-packages (from pinecone) (4.12.2)\n",
            "Requirement already satisfied: urllib3>=1.26.0 in /usr/local/lib/python3.10/dist-packages (from pinecone) (2.2.3)\n",
            "Requirement already satisfied: fastavro<2.0.0,>=1.9.4 in /usr/local/lib/python3.10/dist-packages (from cohere) (1.9.7)\n",
            "Requirement already satisfied: httpx>=0.21.2 in /usr/local/lib/python3.10/dist-packages (from cohere) (0.27.2)\n",
            "Requirement already satisfied: httpx-sse==0.4.0 in /usr/local/lib/python3.10/dist-packages (from cohere) (0.4.0)\n",
            "Requirement already satisfied: parameterized<0.10.0,>=0.9.0 in /usr/local/lib/python3.10/dist-packages (from cohere) (0.9.0)\n",
            "Requirement already satisfied: pydantic>=1.9.2 in /usr/local/lib/python3.10/dist-packages (from cohere) (2.9.2)\n",
            "Requirement already satisfied: pydantic-core<3.0.0,>=2.18.2 in /usr/local/lib/python3.10/dist-packages (from cohere) (2.23.4)\n",
            "Requirement already satisfied: requests<3.0.0,>=2.0.0 in /usr/local/lib/python3.10/dist-packages (from cohere) (2.32.3)\n",
            "Requirement already satisfied: tokenizers<1,>=0.15 in /usr/local/lib/python3.10/dist-packages (from cohere) (0.20.3)\n",
            "Requirement already satisfied: types-requests<3.0.0,>=2.0.0 in /usr/local/lib/python3.10/dist-packages (from cohere) (2.32.0.20241016)\n",
            "Requirement already satisfied: anyio in /usr/local/lib/python3.10/dist-packages (from httpx>=0.21.2->cohere) (3.7.1)\n",
            "Requirement already satisfied: httpcore==1.* in /usr/local/lib/python3.10/dist-packages (from httpx>=0.21.2->cohere) (1.0.7)\n",
            "Requirement already satisfied: idna in /usr/local/lib/python3.10/dist-packages (from httpx>=0.21.2->cohere) (3.10)\n",
            "Requirement already satisfied: sniffio in /usr/local/lib/python3.10/dist-packages (from httpx>=0.21.2->cohere) (1.3.1)\n",
            "Requirement already satisfied: h11<0.15,>=0.13 in /usr/local/lib/python3.10/dist-packages (from httpcore==1.*->httpx>=0.21.2->cohere) (0.14.0)\n",
            "Requirement already satisfied: annotated-types>=0.6.0 in /usr/local/lib/python3.10/dist-packages (from pydantic>=1.9.2->cohere) (0.7.0)\n",
            "Requirement already satisfied: six>=1.5 in /usr/local/lib/python3.10/dist-packages (from python-dateutil>=2.5.3->pinecone) (1.16.0)\n",
            "Requirement already satisfied: charset-normalizer<4,>=2 in /usr/local/lib/python3.10/dist-packages (from requests<3.0.0,>=2.0.0->cohere) (3.4.0)\n",
            "Requirement already satisfied: huggingface-hub<1.0,>=0.16.4 in /usr/local/lib/python3.10/dist-packages (from tokenizers<1,>=0.15->cohere) (0.26.2)\n",
            "Requirement already satisfied: filelock in /usr/local/lib/python3.10/dist-packages (from huggingface-hub<1.0,>=0.16.4->tokenizers<1,>=0.15->cohere) (3.16.1)\n",
            "Requirement already satisfied: fsspec>=2023.5.0 in /usr/local/lib/python3.10/dist-packages (from huggingface-hub<1.0,>=0.16.4->tokenizers<1,>=0.15->cohere) (2024.10.0)\n",
            "Requirement already satisfied: packaging>=20.9 in /usr/local/lib/python3.10/dist-packages (from huggingface-hub<1.0,>=0.16.4->tokenizers<1,>=0.15->cohere) (24.2)\n",
            "Requirement already satisfied: pyyaml>=5.1 in /usr/local/lib/python3.10/dist-packages (from huggingface-hub<1.0,>=0.16.4->tokenizers<1,>=0.15->cohere) (6.0.2)\n",
            "Requirement already satisfied: exceptiongroup in /usr/local/lib/python3.10/dist-packages (from anyio->httpx>=0.21.2->cohere) (1.2.2)\n"
          ]
        }
      ]
    },
    {
      "cell_type": "code",
      "execution_count": 11,
      "metadata": {
        "id": "qj9f5S9vq32Y"
      },
      "outputs": [],
      "source": [
        "import cohere\n",
        "from pinecone import Pinecone, ServerlessSpec\n",
        "import pandas as pd\n",
        "import hashlib"
      ]
    },
    {
      "cell_type": "code",
      "source": [
        "def initialize_cohere(api_key):\n",
        "    \"\"\"\n",
        "    Initialize the Cohere client.\n",
        "\n",
        "    Args:\n",
        "    api_key (str): Your Cohere API key.\n",
        "\n",
        "    \"\"\"\n",
        "    return cohere.Client(api_key)"
      ],
      "metadata": {
        "id": "SNIWfwuXHZja"
      },
      "execution_count": 12,
      "outputs": []
    },
    {
      "cell_type": "code",
      "source": [
        "def initialize_pinecone(api_key, environment, index_name, dimension):\n",
        "    \"\"\"\n",
        "    Initialize the Pinecone vector database and create an index if it doesn't exist.\n",
        "\n",
        "    Args:\n",
        "    api_key (str): Your Pinecone API key.\n",
        "    environment (str): Pinecone environment region.\n",
        "    index_name (str): Name of the Pinecone index.\n",
        "    dimension (int): Dimension of the embeddings.\n",
        "\n",
        "    Returns:\n",
        "    pinecone.Index: The initialized Pinecone index.\n",
        "    \"\"\"\n",
        "    pc = Pinecone(api_key=api_key)\n",
        "    if index_name not in [idx.name for idx in pc.list_indexes()]:\n",
        "        pc.create_index(\n",
        "            name=index_name,\n",
        "            dimension=dimension,\n",
        "            metric='cosine',\n",
        "            spec=ServerlessSpec(\n",
        "                cloud=environment,\n",
        "                region='us-east-1'\n",
        "            )\n",
        "        )\n",
        "    return pc.Index(index_name)"
      ],
      "metadata": {
        "id": "cZlUB1OBCI8D"
      },
      "execution_count": 13,
      "outputs": []
    },
    {
      "cell_type": "code",
      "source": [
        "# Generate embedding for text using Cohere\n",
        "def generate_embedding(cohere_client, text, model=\"embed-english-v3.0\"):\n",
        "    \"\"\"\n",
        "    Generate an embedding for the given text using Cohere.\n",
        "\n",
        "    Args:\n",
        "    cohere_client (cohere.Client): The Cohere client.\n",
        "    text (str): The input text to embed.\n",
        "    model (str): The embedding model to use.\n",
        "\n",
        "    Returns:\n",
        "    list: The embedding vector.\n",
        "    \"\"\"\n",
        "    response = cohere_client.embed(texts=[text],input_type=\"search_query\",model=model)\n",
        "    return response.embeddings[0]"
      ],
      "metadata": {
        "id": "5cxzvCwoGVWl"
      },
      "execution_count": 14,
      "outputs": []
    },
    {
      "cell_type": "code",
      "source": [
        "def generate_id_from_question(question):\n",
        "    \"\"\"\n",
        "    Generate a unique ID for a question using SHA-256 hashing.\n",
        "\n",
        "    Args:\n",
        "    question (str): The input question.\n",
        "\n",
        "    Returns:\n",
        "    str: A unique hash-based ID.\n",
        "    \"\"\"\n",
        "    return hashlib.sha256(question.encode('utf-8')).hexdigest()"
      ],
      "metadata": {
        "id": "2ROl7jALFC4_"
      },
      "execution_count": 15,
      "outputs": []
    },
    {
      "cell_type": "code",
      "source": [
        "# Store embeddings in the Pinecone vector database\n",
        "def store_embeddings(index, dataset, cohere_client, batch_size=100):\n",
        "    \"\"\"\n",
        "    Store embeddings and metadata in the Pinecone vector database.\n",
        "\n",
        "    Args:\n",
        "    index (pinecone.Index): The Pinecone index.\n",
        "    dataset (list of dict): Dataset containing 'question', 'prompt', 'answer', and 'priority'.\n",
        "    cohere_client (cohere.Client): The Cohere client.\n",
        "    \"\"\"\n",
        "    grouped = dataset.groupby('question')\n",
        "    vectors = []\n",
        "    for question, group in grouped:\n",
        "        #select the lowest priority correct answer\n",
        "        correct_answers = group[group['generated_answer'] == group['correct_answer']]\n",
        "        if correct_answers.empty:\n",
        "            continue  # Skip if no correct answers\n",
        "\n",
        "        # Select the row with the lowest priority correct answer\n",
        "        correct_row = correct_answers.sort_values('priority').iloc[0]\n",
        "        #metadata\n",
        "        metadata = {\n",
        "            \"question\": question,  # Store the question as part of the metadata\n",
        "            \"strategy\": correct_row['strategy'],\n",
        "            \"priority\": int(correct_row['priority'])\n",
        "        }\n",
        "        embedding = generate_embedding(cohere_client, question)\n",
        "        id = generate_id_from_question(question)\n",
        "        vectors.append((id, embedding, metadata))\n",
        "        if len(vectors) >= batch_size:\n",
        "            index.upsert(vectors)\n",
        "            vectors = []  # Reset the batch\n",
        "\n",
        "    if vectors:\n",
        "        index.upsert(vectors)"
      ],
      "metadata": {
        "id": "XQ2bBvR7IMGc"
      },
      "execution_count": 41,
      "outputs": []
    },
    {
      "cell_type": "code",
      "source": [
        "def retrieve_top_k_questions(index, cohere_client, new_question, top_k=5):\n",
        "    \"\"\"\n",
        "    Retrieve the top-K most similar questions for a given new question.\n",
        "\n",
        "    Args:\n",
        "    index (pinecone.Index): The Pinecone index.\n",
        "    cohere_client (cohere.Client): The Cohere client.\n",
        "    new_question (str): The input question.\n",
        "    top_k (int): Number of top similar questions to retrieve.\n",
        "\n",
        "    Returns:\n",
        "    list of dict: Retrieved questions with metadata and relevance scores.\n",
        "    \"\"\"\n",
        "    # Generate embedding for the new question\n",
        "    query_embedding = generate_embedding(cohere_client, new_question)\n",
        "\n",
        "    # Query the vector database\n",
        "    results = results = index.query(vector=query_embedding,top_k=5,include_metadata=True)\n",
        "\n",
        "    # Extract and format results\n",
        "    # Group by strategy to ensure diversity in retrieved strategies\n",
        "    grouped_results = {}\n",
        "    for match in results['matches']:\n",
        "        strategy = match['metadata']['strategy']\n",
        "        if strategy not in grouped_results:\n",
        "            grouped_results[strategy] = {\n",
        "                \"question\": match['metadata'].get('question', 'Unknown Question'),\n",
        "                \"strategy\": strategy,\n",
        "                \"priority\": match['metadata']['priority'],\n",
        "                \"score\": match['score']\n",
        "            }\n",
        "\n",
        "    # Sort grouped results by score\n",
        "    return sorted(grouped_results.values(), key=lambda x: x['score'], reverse=True)"
      ],
      "metadata": {
        "id": "JF4A9kV0Ic_z"
      },
      "execution_count": 42,
      "outputs": []
    },
    {
      "cell_type": "code",
      "source": [
        "def main():\n",
        "    # Initialize clients\n",
        "    cohere_api_key = \"LWuVw2IhMyo9rccORONU0jNLYWXYFWGkMNQf69c6\"  # Replace with your Cohere API key\n",
        "    pinecone_api_key = \"pcsk_2Aovig_CsVHa6sDHrnxX9YM97Ud1EsGW7hcvF1sTy3DNBMhvcouxrtAARup5mACrpMkAAe\"  # Replace with your Pinecone API key\n",
        "    pinecone_env = \"aws\"\n",
        "    index_name = \"ap-retrieval\"\n",
        "    embedding_dim = 1024\n",
        "\n",
        "    cohere_client = initialize_cohere(cohere_api_key)\n",
        "    index = initialize_pinecone(pinecone_api_key, pinecone_env, index_name, embedding_dim)\n",
        "\n",
        "    csv_file_path = \"/content/gsm8k_generated_dataset.csv\"  # Replace with your file path\n",
        "    dataset = pd.read_csv(csv_file_path)\n",
        "\n",
        "\n",
        "    # Store embeddings\n",
        "    store_embeddings(index, dataset, cohere_client, batch_size=100)\n",
        "\n",
        "    # Retrieve strategies for a new question\n",
        "    new_question = \"Janet’s ducks lay 16 eggs per day. She eats three for breakfast every morning and bakes muffins for her friends every day with four. She sells the remainder at the farmers' market daily for $2 per fresh duck egg. How much in dollars does she make every day at the farmers' market?\"\n",
        "    results = retrieve_top_k_questions(index, cohere_client, new_question)\n",
        "\n",
        "    # Print the results\n",
        "    print(\"Retrieved Questions:\")\n",
        "    for strategy in results:\n",
        "        print(f\"Question: {strategy['question']}, \"\n",
        "              f\"Strategy: {strategy['strategy']}, \"\n",
        "              f\"Priority: {strategy['priority']}, \"\n",
        "              f\"Score: {strategy['score']}\")\n",
        "\n",
        "\n",
        "\n",
        "if __name__ == \"__main__\":\n",
        "    main()\n"
      ],
      "metadata": {
        "colab": {
          "base_uri": "https://localhost:8080/"
        },
        "id": "soGbeMZTJ8Lp",
        "outputId": "13fe56fe-6425-4526-d527-2d480c6fa842"
      },
      "execution_count": 44,
      "outputs": [
        {
          "output_type": "stream",
          "name": "stdout",
          "text": [
            "Retrieved Questions:\n",
            "Question: Janet’s ducks lay 16 eggs per day. She eats three for breakfast every morning and bakes muffins for her friends every day with four. She sells the remainder at the farmers' market daily for $2 per fresh duck egg. How much in dollars does she make every day at the farmers' market?, Strategy: few-shot, Priority: 1.0, Score: 1.00000012\n",
            "Question: Lloyd has an egg farm. His chickens produce 252 eggs per day and he sells them for $2 per dozen. How much does Lloyd make on eggs per week?, Strategy: zero-shot, Priority: 0.0, Score: 0.635616422\n",
            "Question: At the end of the school year, Kate asked her teacher if she could have the 3 boxes of 64 crayons since they were all worn down to small pieces.  The teacher agreed.  Kate took the crayons home and decided to make crayon muffins by melting 8 small pieces of crayons together in a muffin tin that she placed in an oven for a few minutes. If she can sell her muffin crayons for $1.50 each, how much money can Kate make?, Strategy: cot, Priority: 2.0, Score: 0.569002688\n"
          ]
        }
      ]
    }
  ]
}