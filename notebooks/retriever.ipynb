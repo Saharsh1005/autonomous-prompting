{
  "nbformat": 4,
  "nbformat_minor": 0,
  "metadata": {
    "colab": {
      "provenance": []
    },
    "kernelspec": {
      "name": "python3",
      "display_name": "Python 3"
    },
    "language_info": {
      "name": "python"
    }
  },
  "cells": [
    {
      "cell_type": "code",
      "source": [
        "pip install pinecone cohere"
      ],
      "metadata": {
        "colab": {
          "base_uri": "https://localhost:8080/"
        },
        "id": "k6bFG6DyBrBm",
        "outputId": "646a5320-97a6-465f-d304-3b6efe24bccb"
      },
      "execution_count": 1,
      "outputs": [
        {
          "output_type": "stream",
          "name": "stdout",
          "text": [
            "Collecting pinecone\n",
            "  Downloading pinecone-5.4.1-py3-none-any.whl.metadata (19 kB)\n",
            "Collecting cohere\n",
            "  Downloading cohere-5.12.0-py3-none-any.whl.metadata (3.5 kB)\n",
            "Requirement already satisfied: certifi>=2019.11.17 in /usr/local/lib/python3.10/dist-packages (from pinecone) (2024.8.30)\n",
            "Collecting pinecone-plugin-inference<4.0.0,>=2.0.0 (from pinecone)\n",
            "  Downloading pinecone_plugin_inference-3.0.0-py3-none-any.whl.metadata (2.2 kB)\n",
            "Collecting pinecone-plugin-interface<0.0.8,>=0.0.7 (from pinecone)\n",
            "  Downloading pinecone_plugin_interface-0.0.7-py3-none-any.whl.metadata (1.2 kB)\n",
            "Requirement already satisfied: python-dateutil>=2.5.3 in /usr/local/lib/python3.10/dist-packages (from pinecone) (2.8.2)\n",
            "Requirement already satisfied: tqdm>=4.64.1 in /usr/local/lib/python3.10/dist-packages (from pinecone) (4.66.6)\n",
            "Requirement already satisfied: typing-extensions>=3.7.4 in /usr/local/lib/python3.10/dist-packages (from pinecone) (4.12.2)\n",
            "Requirement already satisfied: urllib3>=1.26.0 in /usr/local/lib/python3.10/dist-packages (from pinecone) (2.2.3)\n",
            "Collecting fastavro<2.0.0,>=1.9.4 (from cohere)\n",
            "  Downloading fastavro-1.9.7-cp310-cp310-manylinux_2_17_x86_64.manylinux2014_x86_64.whl.metadata (5.5 kB)\n",
            "Requirement already satisfied: httpx>=0.21.2 in /usr/local/lib/python3.10/dist-packages (from cohere) (0.27.2)\n",
            "Collecting httpx-sse==0.4.0 (from cohere)\n",
            "  Downloading httpx_sse-0.4.0-py3-none-any.whl.metadata (9.0 kB)\n",
            "Collecting parameterized<0.10.0,>=0.9.0 (from cohere)\n",
            "  Downloading parameterized-0.9.0-py2.py3-none-any.whl.metadata (18 kB)\n",
            "Requirement already satisfied: pydantic>=1.9.2 in /usr/local/lib/python3.10/dist-packages (from cohere) (2.9.2)\n",
            "Requirement already satisfied: pydantic-core<3.0.0,>=2.18.2 in /usr/local/lib/python3.10/dist-packages (from cohere) (2.23.4)\n",
            "Requirement already satisfied: requests<3.0.0,>=2.0.0 in /usr/local/lib/python3.10/dist-packages (from cohere) (2.32.3)\n",
            "Requirement already satisfied: tokenizers<1,>=0.15 in /usr/local/lib/python3.10/dist-packages (from cohere) (0.20.3)\n",
            "Collecting types-requests<3.0.0,>=2.0.0 (from cohere)\n",
            "  Downloading types_requests-2.32.0.20241016-py3-none-any.whl.metadata (1.9 kB)\n",
            "Requirement already satisfied: anyio in /usr/local/lib/python3.10/dist-packages (from httpx>=0.21.2->cohere) (3.7.1)\n",
            "Requirement already satisfied: httpcore==1.* in /usr/local/lib/python3.10/dist-packages (from httpx>=0.21.2->cohere) (1.0.7)\n",
            "Requirement already satisfied: idna in /usr/local/lib/python3.10/dist-packages (from httpx>=0.21.2->cohere) (3.10)\n",
            "Requirement already satisfied: sniffio in /usr/local/lib/python3.10/dist-packages (from httpx>=0.21.2->cohere) (1.3.1)\n",
            "Requirement already satisfied: h11<0.15,>=0.13 in /usr/local/lib/python3.10/dist-packages (from httpcore==1.*->httpx>=0.21.2->cohere) (0.14.0)\n",
            "Requirement already satisfied: annotated-types>=0.6.0 in /usr/local/lib/python3.10/dist-packages (from pydantic>=1.9.2->cohere) (0.7.0)\n",
            "Requirement already satisfied: six>=1.5 in /usr/local/lib/python3.10/dist-packages (from python-dateutil>=2.5.3->pinecone) (1.16.0)\n",
            "Requirement already satisfied: charset-normalizer<4,>=2 in /usr/local/lib/python3.10/dist-packages (from requests<3.0.0,>=2.0.0->cohere) (3.4.0)\n",
            "Requirement already satisfied: huggingface-hub<1.0,>=0.16.4 in /usr/local/lib/python3.10/dist-packages (from tokenizers<1,>=0.15->cohere) (0.26.2)\n",
            "Requirement already satisfied: filelock in /usr/local/lib/python3.10/dist-packages (from huggingface-hub<1.0,>=0.16.4->tokenizers<1,>=0.15->cohere) (3.16.1)\n",
            "Requirement already satisfied: fsspec>=2023.5.0 in /usr/local/lib/python3.10/dist-packages (from huggingface-hub<1.0,>=0.16.4->tokenizers<1,>=0.15->cohere) (2024.10.0)\n",
            "Requirement already satisfied: packaging>=20.9 in /usr/local/lib/python3.10/dist-packages (from huggingface-hub<1.0,>=0.16.4->tokenizers<1,>=0.15->cohere) (24.2)\n",
            "Requirement already satisfied: pyyaml>=5.1 in /usr/local/lib/python3.10/dist-packages (from huggingface-hub<1.0,>=0.16.4->tokenizers<1,>=0.15->cohere) (6.0.2)\n",
            "Requirement already satisfied: exceptiongroup in /usr/local/lib/python3.10/dist-packages (from anyio->httpx>=0.21.2->cohere) (1.2.2)\n",
            "Downloading pinecone-5.4.1-py3-none-any.whl (427 kB)\n",
            "\u001b[2K   \u001b[90m━━━━━━━━━━━━━━━━━━━━━━━━━━━━━━━━━━━━━━━━\u001b[0m \u001b[32m427.3/427.3 kB\u001b[0m \u001b[31m11.9 MB/s\u001b[0m eta \u001b[36m0:00:00\u001b[0m\n",
            "\u001b[?25hDownloading cohere-5.12.0-py3-none-any.whl (249 kB)\n",
            "\u001b[2K   \u001b[90m━━━━━━━━━━━━━━━━━━━━━━━━━━━━━━━━━━━━━━━━\u001b[0m \u001b[32m249.7/249.7 kB\u001b[0m \u001b[31m14.9 MB/s\u001b[0m eta \u001b[36m0:00:00\u001b[0m\n",
            "\u001b[?25hDownloading httpx_sse-0.4.0-py3-none-any.whl (7.8 kB)\n",
            "Downloading fastavro-1.9.7-cp310-cp310-manylinux_2_17_x86_64.manylinux2014_x86_64.whl (3.1 MB)\n",
            "\u001b[2K   \u001b[90m━━━━━━━━━━━━━━━━━━━━━━━━━━━━━━━━━━━━━━━━\u001b[0m \u001b[32m3.1/3.1 MB\u001b[0m \u001b[31m38.8 MB/s\u001b[0m eta \u001b[36m0:00:00\u001b[0m\n",
            "\u001b[?25hDownloading parameterized-0.9.0-py2.py3-none-any.whl (20 kB)\n",
            "Downloading pinecone_plugin_inference-3.0.0-py3-none-any.whl (87 kB)\n",
            "\u001b[2K   \u001b[90m━━━━━━━━━━━━━━━━━━━━━━━━━━━━━━━━━━━━━━━━\u001b[0m \u001b[32m87.7/87.7 kB\u001b[0m \u001b[31m7.7 MB/s\u001b[0m eta \u001b[36m0:00:00\u001b[0m\n",
            "\u001b[?25hDownloading pinecone_plugin_interface-0.0.7-py3-none-any.whl (6.2 kB)\n",
            "Downloading types_requests-2.32.0.20241016-py3-none-any.whl (15 kB)\n",
            "Installing collected packages: types-requests, pinecone-plugin-interface, parameterized, httpx-sse, fastavro, pinecone-plugin-inference, pinecone, cohere\n",
            "Successfully installed cohere-5.12.0 fastavro-1.9.7 httpx-sse-0.4.0 parameterized-0.9.0 pinecone-5.4.1 pinecone-plugin-inference-3.0.0 pinecone-plugin-interface-0.0.7 types-requests-2.32.0.20241016\n"
          ]
        }
      ]
    },
    {
      "cell_type": "code",
      "execution_count": 13,
      "metadata": {
        "id": "qj9f5S9vq32Y"
      },
      "outputs": [],
      "source": [
        "import cohere\n",
        "from pinecone import Pinecone, ServerlessSpec\n",
        "import pandas as pd"
      ]
    },
    {
      "cell_type": "code",
      "source": [
        "def initialize_cohere(api_key):\n",
        "    \"\"\"\n",
        "    Initialize the Cohere client.\n",
        "\n",
        "    Args:\n",
        "    api_key (str): Your Cohere API key.\n",
        "\n",
        "    \"\"\"\n",
        "    return cohere.Client(api_key)"
      ],
      "metadata": {
        "id": "SNIWfwuXHZja"
      },
      "execution_count": 4,
      "outputs": []
    },
    {
      "cell_type": "code",
      "source": [
        "def initialize_pinecone(api_key, environment, index_name, dimension):\n",
        "    \"\"\"\n",
        "    Initialize the Pinecone vector database and create an index if it doesn't exist.\n",
        "\n",
        "    Args:\n",
        "    api_key (str): Your Pinecone API key.\n",
        "    environment (str): Pinecone environment region.\n",
        "    index_name (str): Name of the Pinecone index.\n",
        "    dimension (int): Dimension of the embeddings.\n",
        "\n",
        "    Returns:\n",
        "    pinecone.Index: The initialized Pinecone index.\n",
        "    \"\"\"\n",
        "    pc = Pinecone(api_key=api_key)\n",
        "    if index_name not in [idx.name for idx in pc.list_indexes()]:\n",
        "        pc.create_index(\n",
        "            name=index_name,\n",
        "            dimension=dimension,\n",
        "            metric='cosine',\n",
        "            spec=ServerlessSpec(\n",
        "                cloud=environment,\n",
        "                region='us-east-1'\n",
        "            )\n",
        "        )\n",
        "    return pc.Index(index_name)"
      ],
      "metadata": {
        "id": "cZlUB1OBCI8D"
      },
      "execution_count": 21,
      "outputs": []
    },
    {
      "cell_type": "code",
      "source": [
        "# Generate embedding for text using Cohere\n",
        "def generate_embedding(cohere_client, text, model=\"embed-english-v3.0\"):\n",
        "    \"\"\"\n",
        "    Generate an embedding for the given text using Cohere.\n",
        "\n",
        "    Args:\n",
        "    cohere_client (cohere.Client): The Cohere client.\n",
        "    text (str): The input text to embed.\n",
        "    model (str): The embedding model to use.\n",
        "\n",
        "    Returns:\n",
        "    list: The embedding vector.\n",
        "    \"\"\"\n",
        "    response = cohere_client.embed(texts=[text],input_type=\"search_query\",model=model)\n",
        "    return response.embeddings[0]"
      ],
      "metadata": {
        "id": "5cxzvCwoGVWl"
      },
      "execution_count": 27,
      "outputs": []
    },
    {
      "cell_type": "code",
      "source": [
        "# Store embeddings in the Pinecone vector database\n",
        "def store_embeddings(index, dataset, cohere_client):\n",
        "    \"\"\"\n",
        "    Store embeddings and metadata in the Pinecone vector database.\n",
        "\n",
        "    Args:\n",
        "    index (pinecone.Index): The Pinecone index.\n",
        "    dataset (list of dict): Dataset containing 'question', 'prompt', 'answer', and 'priority'.\n",
        "    cohere_client (cohere.Client): The Cohere client.\n",
        "    \"\"\"\n",
        "    vectors = []\n",
        "    for idx, row in dataset.iterrows():\n",
        "        question = row['question']\n",
        "        metadata = {\n",
        "            \"question\": row['question'],  #Added to metadata for easier retrieval\n",
        "            \"prompt\": row['prompt'],\n",
        "            \"answer\": row['answer'],\n",
        "            \"strategy\": row['strategy'],\n",
        "            \"priority\": int(row['priority'])  #ensure priority is stored as an integer\n",
        "        }\n",
        "        embedding = generate_embedding(cohere_client, question)\n",
        "        vectors.append((f\"q{idx}\", embedding, metadata))\n",
        "    index.upsert(vectors)"
      ],
      "metadata": {
        "id": "XQ2bBvR7IMGc"
      },
      "execution_count": 8,
      "outputs": []
    },
    {
      "cell_type": "code",
      "source": [
        "def retrieve_top_k_questions(index, cohere_client, new_question, top_k=5):\n",
        "    \"\"\"\n",
        "    Retrieve the top-K most similar questions for a given new question.\n",
        "\n",
        "    Args:\n",
        "    index (pinecone.Index): The Pinecone index.\n",
        "    cohere_client (cohere.Client): The Cohere client.\n",
        "    new_question (str): The input question.\n",
        "    top_k (int): Number of top similar questions to retrieve.\n",
        "\n",
        "    Returns:\n",
        "    list of dict: Retrieved questions with metadata and relevance scores.\n",
        "    \"\"\"\n",
        "    # Generate embedding for the new question\n",
        "    query_embedding = generate_embedding(cohere_client, new_question)\n",
        "\n",
        "    # Query the vector database\n",
        "    results = results = index.query(vector=query_embedding,top_k=5,include_metadata=True\n",
        ")\n",
        "\n",
        "    # Extract and format results\n",
        "    retrieved_questions = []\n",
        "    for match in results['matches']:\n",
        "        retrieved_questions.append({\n",
        "            \"question\": match['metadata'].get('question', 'Unknown Question'),\n",
        "            \"prompt\": match['metadata'].get('prompt'),\n",
        "            \"answer\": match['metadata'].get('answer'),\n",
        "            \"strategy\": match['metadata'].get('strategy'),\n",
        "            \"priority\": match['metadata'].get('priority'),\n",
        "            \"score\": match['score']\n",
        "        })\n",
        "\n",
        "    return retrieved_questions"
      ],
      "metadata": {
        "id": "JF4A9kV0Ic_z"
      },
      "execution_count": 29,
      "outputs": []
    },
    {
      "cell_type": "code",
      "source": [
        "def main():\n",
        "    # Initialize clients\n",
        "    cohere_api_key = \"QSVeHnX7B2cUcbZpbQFGpIDA4zlOcSWGyQ74wk3v\"  # Replace with your Cohere API key\n",
        "    pinecone_api_key = \"pcsk_2Aovig_CsVHa6sDHrnxX9YM97Ud1EsGW7hcvF1sTy3DNBMhvcouxrtAARup5mACrpMkAAe\"  # Replace with your Pinecone API key\n",
        "    pinecone_env = \"aws\"\n",
        "    index_name = \"ap-retrieval\"\n",
        "    embedding_dim = 1024\n",
        "\n",
        "    cohere_client = initialize_cohere(cohere_api_key)\n",
        "    index = initialize_pinecone(pinecone_api_key, pinecone_env, index_name, embedding_dim)\n",
        "\n",
        "    csv_file_path = \"/content/gsm8k_prompt_dataset.csv\"  # Replace with your file path\n",
        "    dataset = pd.read_csv(csv_file_path)\n",
        "\n",
        "    # Store embeddings\n",
        "    store_embeddings(index, dataset, cohere_client)\n",
        "\n",
        "    # Retrieve strategies for a new question\n",
        "    new_question = \"A chef has 500 cupcakes. She wants to distribute them equally into 10 boxes. How many cupcakes will each box contain?\"\n",
        "    results = retrieve_top_k_questions(index, cohere_client, new_question)\n",
        "\n",
        "    # Print the results\n",
        "    print(\"Retrieved Strategies:\")\n",
        "    for strategy in results:\n",
        "        print(f\"Question: {strategy['question']}, \"\n",
        "              f\"Prompt: {strategy['prompt']}, \"\n",
        "              f\"Strategy: {strategy['strategy']}, \"\n",
        "              f\"Priority: {strategy['priority']}, \"\n",
        "              f\"Score: {strategy['score']}\")\n",
        "\n",
        "if __name__ == \"__main__\":\n",
        "    main()\n"
      ],
      "metadata": {
        "colab": {
          "base_uri": "https://localhost:8080/"
        },
        "id": "soGbeMZTJ8Lp",
        "outputId": "cb107253-936f-4096-ebc7-d63dec84932e"
      },
      "execution_count": 30,
      "outputs": [
        {
          "output_type": "stream",
          "name": "stdout",
          "text": [
            "Retrieved Strategies:\n",
            "Question: A baker has 240 cookies. He wants to divide them equally among 8 boxes. How many cookies will each box have?, Prompt: Q: A baker has 240 cookies. He wants to divide them equally among 8 boxes. How many cookies will each box have? A: 240 ÷ 8 = 30. The Final Answer is 30., Strategy: Zero-Shot, Priority: 1.0, Score: 0.635134518\n",
            "Question: A baker has 240 cookies. He wants to divide them equally among 8 boxes. How many cookies will each box have?, Prompt: Q: A baker has 240 cookies. He wants to divide them equally among 8 boxes. A: Let’s calculate step by step. Divide 240 by 8. The Final Answer is 30., Strategy: CoT, Priority: 3.0, Score: 0.635134518\n",
            "Question: Sarah bought 3 packs of pens. Each pack has 10 pens. How many pens did Sarah buy in total?, Prompt: Q: Sarah bought 3 packs of pens. Each pack has 10 pens. How many pens did Sarah buy in total? A: 3 × 10 = 30. The Final Answer is 30., Strategy: Zero-Shot, Priority: 1.0, Score: 0.461693525\n",
            "Question: Lisa had 50 candies. She gave 20 to her friends. How many candies does Lisa have left?, Prompt: Q: Lisa had 50 candies. She gave 20 to her friends. How many candies does Lisa have left? A: Lisa had 50 candies and gave away 20. 50 - 20 = 30. The Final Answer is 30., Strategy: Zero-Shot, Priority: 1.0, Score: 0.431244224\n",
            "Question: Lisa had 50 candies. She gave 20 to her friends. How many candies does Lisa have left?, Prompt: Q: Lisa had 50 candies. She gave 20 to her friends. How many candies does Lisa have left? A: Let’s work step by step. She started with 50, gave away 20. 50 - 20 = 30. The Final Answer is 30., Strategy: CoT-SC, Priority: 4.0, Score: 0.431244224\n"
          ]
        }
      ]
    },
    {
      "cell_type": "code",
      "source": [],
      "metadata": {
        "id": "hncQ63KbU9AK"
      },
      "execution_count": null,
      "outputs": []
    }
  ]
}